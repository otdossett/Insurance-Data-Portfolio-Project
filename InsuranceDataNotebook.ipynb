{
 "cells": [
  {
   "cell_type": "markdown",
   "metadata": {},
   "source": [
    "Below I imported Pandas, a library that specializes in manipulating data in CSV form, matplotlib, a library that provides graphing possibilities, and numpy, a general computational library."
   ]
  },
  {
   "cell_type": "code",
   "execution_count": 2,
   "metadata": {},
   "outputs": [],
   "source": [
    "import pandas as pd\n",
    "import matplotlib.pyplot as plt\n",
    "import numpy as np"
   ]
  },
  {
   "cell_type": "markdown",
   "metadata": {},
   "source": [
    "I then opened up the dataset using pandas and stored the columns so I could later assign the rows of the columns to the lists."
   ]
  },
  {
   "cell_type": "code",
   "execution_count": 3,
   "metadata": {},
   "outputs": [],
   "source": [
    "df = pd.read_csv('insurance_data.csv')\n",
    "def csv_to_python_list(column):\n",
    "    return df[str(column)]"
   ]
  },
  {
   "cell_type": "markdown",
   "metadata": {},
   "source": [
    "I then assigned each column to its own list, where the order is maintained for later data evaluation."
   ]
  },
  {
   "cell_type": "code",
   "execution_count": 4,
   "metadata": {},
   "outputs": [],
   "source": [
    "list_of_columns = ['age', 'sex', 'bmi', 'children', 'smoker', 'region', 'charges']\n",
    "age = csv_to_python_list('age')\n",
    "sex = csv_to_python_list('sex')\n",
    "bmi = csv_to_python_list('bmi')\n",
    "children = csv_to_python_list('children')\n",
    "smoker = csv_to_python_list('smoker')\n",
    "region = csv_to_python_list('region')\n",
    "charges = csv_to_python_list('charges')"
   ]
  },
  {
   "cell_type": "markdown",
   "metadata": {},
   "source": [
    "I then created a Patient_Data class with several methods in order to aid the data analyzation.  These methods included finding the amount of males and females in the dataset, finding the average BMI of the dataset, counting the amount of smokers and non smokers, a general function that seperates data into male and female categories, a function that creates a dictionary of the data with the keys being the columns from the original dataset, and the average insurance charge of the entire data set."
   ]
  },
  {
   "cell_type": "code",
   "execution_count": 5,
   "metadata": {},
   "outputs": [],
   "source": [
    "class Patient_Data:\n",
    "    def __init__(self, age, sex, bmi, children, smoker, region, charges):\n",
    "        self.age = age\n",
    "        self.sex = sex\n",
    "        self.bmi = bmi\n",
    "        self.children = children\n",
    "        self.smoker = smoker\n",
    "        self.region = region\n",
    "        self.charges = charges\n",
    "    def analyze_Sex(self):\n",
    "        self.malecount = 0\n",
    "        self.femalecount = 0\n",
    "        for entry in self.sex:\n",
    "            if entry == 'male':\n",
    "                self.malecount += 1\n",
    "            else:\n",
    "                self.femalecount += 1\n",
    "        return self.malecount, self.femalecount\n",
    "    def average_bmi(self):\n",
    "        self.totalbmi = 0\n",
    "        for entry in self.bmi:\n",
    "            self.totalbmi += entry\n",
    "        return self.totalbmi//self.bmi.count()\n",
    "    def smoker_count(self):\n",
    "        self.smokercount = 0\n",
    "        self.nonsmokercount = 0\n",
    "        for entry in self.smoker:\n",
    "            if entry == 'yes':\n",
    "                self.smokercount += 1\n",
    "            else:\n",
    "                self.nonsmokercount += 1\n",
    "        return self.smokercount, self.nonsmokercount\n",
    "    def seperate_data_by_sex(self, category):\n",
    "        for entry in self.sex:\n",
    "            tempmalelist = []\n",
    "            tempfemalelist = []\n",
    "            if entry == 'male':\n",
    "                tempmalelist.append(self.category[self.sex.index(entry)])\n",
    "            else:\n",
    "                tempfemalelist.append(self.category[self.sex.index(entry)])\n",
    "        return tempmalelist, tempfemalelist\n",
    "    def generate_dictionary(self):\n",
    "        self.patient_dictionary = {}\n",
    "        self.patient_dictionary.update({'age':self.age, 'sex': self.sex, 'bmi': self.bmi, 'children': self.children, 'smoker': self.smoker, 'region': self.region, 'charges': self.charges})\n",
    "    def average_charge(self):\n",
    "        self.totalcharges = 0\n",
    "        for entry in self.charges:\n",
    "            self.totalcharges += entry\n",
    "        return self.totalcharges//self.charges.count()\n"
   ]
  },
  {
   "cell_type": "markdown",
   "metadata": {},
   "source": [
    "I then create an instance of the newly created class under patient_Stats, initializing it with the lists created earlier from the dataset."
   ]
  },
  {
   "cell_type": "code",
   "execution_count": 6,
   "metadata": {},
   "outputs": [],
   "source": [
    "patient_Stats = Patient_Data(age, sex, bmi, children, smoker, region, charges)"
   ]
  },
  {
   "cell_type": "markdown",
   "metadata": {},
   "source": [
    "I then call the generate_dictionary() function to create a dictionary of the data."
   ]
  },
  {
   "cell_type": "code",
   "execution_count": 7,
   "metadata": {},
   "outputs": [],
   "source": [
    "patient_Stats_Dictionary = patient_Stats.generate_dictionary()"
   ]
  },
  {
   "cell_type": "markdown",
   "metadata": {},
   "source": [
    "The amount of males and females are then found using a previous function.  The distribution of male versus female is representative of the general US population, with the distribution being close to 50/50."
   ]
  },
  {
   "cell_type": "code",
   "execution_count": 8,
   "metadata": {},
   "outputs": [
    {
     "name": "stdout",
     "output_type": "stream",
     "text": [
      "There are 676 males and 662 females in this dataset.\n"
     ]
    }
   ],
   "source": [
    "mcount, fcount = patient_Stats.analyze_Sex()\n",
    "print(\"There are {mcount} males and {fcount} females in this dataset.\".format(mcount=mcount, fcount=fcount))"
   ]
  },
  {
   "cell_type": "markdown",
   "metadata": {},
   "source": [
    "The average BMI is then found with a previous function.  The average BMI of the US is around 26, so this dataset has a BMI that is slightly higher than the expected BMI for a sample of US adults.  This could result in an overall inflated insurance cost for the entirety of the dataset, as BMI might be a contributing factor to higher costs."
   ]
  },
  {
   "cell_type": "code",
   "execution_count": 9,
   "metadata": {},
   "outputs": [
    {
     "name": "stdout",
     "output_type": "stream",
     "text": [
      "The average BMI of this dataset is 30.0.\n"
     ]
    }
   ],
   "source": [
    "avgbmi = patient_Stats.average_bmi()\n",
    "print(\"The average BMI of this dataset is {avgbmi}.\".format(avgbmi=avgbmi))"
   ]
  },
  {
   "cell_type": "markdown",
   "metadata": {},
   "source": [
    "The smoker and non smoker counts are shown below.  The percentage of smokers in this dataset (20%) is slightly higher than the percentage of the US that are smokers (12.5%).  This could result in inflated insurance costs as smoker status could contribute to a higher insurance cost."
   ]
  },
  {
   "cell_type": "code",
   "execution_count": 10,
   "metadata": {},
   "outputs": [
    {
     "name": "stdout",
     "output_type": "stream",
     "text": [
      "The amount of smokers in this dataset is 274.  The amount of non-smokers in this dataset is 1064.\n"
     ]
    }
   ],
   "source": [
    "smokercount, nonsmokercount = patient_Stats.smoker_count()\n",
    "print(\"The amount of smokers in this dataset is {scount}.  The amount of non-smokers in this dataset is {nonscount}.\".format(scount = smokercount, nonscount = nonsmokercount))"
   ]
  },
  {
   "cell_type": "markdown",
   "metadata": {},
   "source": [
    "The average cost for every individual is then calculated below.  This average cost (13270) is slightly higher than the average annual cost for an individual in the US (11945).  This could be either to random chance or could have been caused by the fact that the BMI and amount of smokers is higher in this dataset than in the general US population."
   ]
  },
  {
   "cell_type": "code",
   "execution_count": 11,
   "metadata": {},
   "outputs": [
    {
     "name": "stdout",
     "output_type": "stream",
     "text": [
      "The average insurance cost of an individual in this dataset is 13270.0.\n"
     ]
    }
   ],
   "source": [
    "avgcost = patient_Stats.average_charge()\n",
    "print(\"The average insurance cost of an individual in this dataset is {avcost}.\".format(avcost = avgcost))"
   ]
  },
  {
   "cell_type": "markdown",
   "metadata": {},
   "source": [
    "A scatterplot is then created to try and find a linkage between BMI and cost of insurance.  There seems to be a very low correlation between these two."
   ]
  },
  {
   "cell_type": "code",
   "execution_count": 12,
   "metadata": {},
   "outputs": [
    {
     "data": {
      "image/png": "[encoded data removed]",
      "text/plain": [
       "<Figure size 432x288 with 1 Axes>"
      ]
     },
     "metadata": {
      "needs_background": "light"
     },
     "output_type": "display_data"
    }
   ],
   "source": [
    "fig, ax = plt.subplots()\n",
    "\n",
    "ax.scatter(patient_Stats.bmi, patient_Stats.charges, s=5)\n",
    "ax.set_xlabel('BMI')\n",
    "ax.set_ylabel('Cost of Insurance')\n",
    "ax.set_title('Cost of Insurance Based on BMI')\n",
    "plt.show()"
   ]
  },
  {
   "cell_type": "markdown",
   "metadata": {},
   "source": [
    "A barplot is then created to attempt to establish a correlation between number of children and insurance cost.  It appears that as number of children increases, cost of insurance increases until number of children is greater than 3.  Then the average cost falls off greatly.  This seems to be contrary to what the expectation would be, as insurance plans increase if your child is included in the plan.  It would be important to evaluate the amount of individuals with 4 and 5 children."
   ]
  },
  {
   "cell_type": "code",
   "execution_count": 13,
   "metadata": {},
   "outputs": [
    {
     "data": {
      "image/png": "[encoded data removed]",
      "text/plain": [
       "<Figure size 432x288 with 1 Axes>"
      ]
     },
     "metadata": {
      "needs_background": "light"
     },
     "output_type": "display_data"
    }
   ],
   "source": [
    "children_charge_dictionary = {}\n",
    "i=0\n",
    "while i in range(len(patient_Stats.children)):\n",
    "    if patient_Stats.children[i] not in children_charge_dictionary:\n",
    "        children_charge_dictionary[patient_Stats.children[i]] = [patient_Stats.charges[i]]\n",
    "    else:\n",
    "        children_charge_dictionary[patient_Stats.children[i]].append(patient_Stats.charges[i])\n",
    "    i+=1\n",
    "children_charge_averages = []\n",
    "i=0\n",
    "while i < len(children_charge_dictionary):\n",
    "    children_charge_averages.append(np.mean(children_charge_dictionary[i]))\n",
    "    i+=1\n",
    "fig, ax = plt.subplots()\n",
    "ax.bar([0,1,2,3,4,5],children_charge_averages , width=1)\n",
    "ax.set_xlabel('Number of Children')\n",
    "ax.set_ylabel('Average Insurance Cost')\n",
    "ax.set_title('Average Insurance Cost Based on Number of Children')\n",
    "plt.show()"
   ]
  },
  {
   "cell_type": "markdown",
   "metadata": {},
   "source": [
    "The amount of individuals are then found for each amount of children shown in the dataset.  As expected, the amount of datapoints with 4 or 5 children is incredibly low when compared to the overall amount of datapoints within the set.  Therefore, it is hard to draw any conclusions regarding 4 or 5 children; however, with the amount of datapoints in the other 4 categories, a general trend of having more children resulting in a higher insurance cost is plausable."
   ]
  },
  {
   "cell_type": "code",
   "execution_count": 14,
   "metadata": {},
   "outputs": [
    {
     "name": "stdout",
     "output_type": "stream",
     "text": [
      "There are 574 individuals with no children, 324 with 1, 240 with 2, 157, with 3, 25 with 4, and 18 with 5.\n"
     ]
    }
   ],
   "source": [
    "\n",
    "print(\"There are {0} individuals with no children, {1} with 1, {2} with 2, {3}, with 3, {4} with 4, and {5} with 5.\".format(len(children_charge_dictionary[0]), len(children_charge_dictionary[1]), len(children_charge_dictionary[2]), len(children_charge_dictionary[3]), len(children_charge_dictionary[4]), len(children_charge_dictionary[5])))"
   ]
  },
  {
   "cell_type": "markdown",
   "metadata": {},
   "source": [
    "The data is then organized by smoker status and plotted onto a bar graph.  As expected, the insurance cost of being a smoker on average is much higher than the insurance cost of non-smokers."
   ]
  },
  {
   "cell_type": "code",
   "execution_count": 15,
   "metadata": {},
   "outputs": [
    {
     "data": {
      "image/png": "[encoded data removed]",
      "text/plain": [
       "<Figure size 432x288 with 1 Axes>"
      ]
     },
     "metadata": {
      "needs_background": "light"
     },
     "output_type": "display_data"
    }
   ],
   "source": [
    "smoker_charge_dictionary = {}\n",
    "i = 0\n",
    "while i in range(len(patient_Stats.smoker)):\n",
    "    if patient_Stats.smoker[i] not in smoker_charge_dictionary:\n",
    "        smoker_charge_dictionary[patient_Stats.smoker[i]] = [patient_Stats.charges[i]]\n",
    "    else:\n",
    "        smoker_charge_dictionary[patient_Stats.smoker[i]].append(patient_Stats.charges[i])\n",
    "    i+=1\n",
    "smoker_average_charges = []\n",
    "smoker_average_charges.append(np.mean(smoker_charge_dictionary['yes']))\n",
    "smoker_average_charges.append(np.mean(smoker_charge_dictionary['no']))\n",
    "fig, ax = plt.subplots()\n",
    "ax.bar(['Smoker', 'Non-Smoker'],smoker_average_charges , width=1)\n",
    "ax.set_ylabel('Average Insurance Cost')\n",
    "ax.set_xlabel('Smoker Status')\n",
    "ax.set_title('Average Insurance Cost Based on Smoker Status')\n",
    "plt.show()"
   ]
  },
  {
   "cell_type": "markdown",
   "metadata": {},
   "source": [
    "The number of smokers and non-smokers is reiterated below.  Although there are less smokers than non-smokers in this dataset, smokers are actually overrepresented in this dataset compared to the general US population."
   ]
  },
  {
   "cell_type": "code",
   "execution_count": 16,
   "metadata": {},
   "outputs": [
    {
     "name": "stdout",
     "output_type": "stream",
     "text": [
      "There are 274 smokers and 1064 non-smokers.\n"
     ]
    }
   ],
   "source": [
    "num_of_smokers = list(patient_Stats.smoker_count())\n",
    "print(\"There are {smoke} smokers and {non} non-smokers.\".format(smoke = num_of_smokers[0],non = num_of_smokers[1]))"
   ]
  },
  {
   "cell_type": "markdown",
   "metadata": {},
   "source": [
    "A bar graph of average insurance cost is then made based off the region an individual is from.  The averages seem to fall close to the overall average insurance cost of the dataset, so there does not seem to be a strong indication that the region an individual is from is a predictor for their insurance cost."
   ]
  },
  {
   "cell_type": "code",
   "execution_count": 17,
   "metadata": {},
   "outputs": [
    {
     "data": {
      "image/png": "[encoded data removed]",
      "text/plain": [
       "<Figure size 432x288 with 1 Axes>"
      ]
     },
     "metadata": {
      "needs_background": "light"
     },
     "output_type": "display_data"
    }
   ],
   "source": [
    "location_charge_dictionary = {}\n",
    "i = 0\n",
    "while i in range(len(patient_Stats.region)):\n",
    "    if patient_Stats.region[i] not in location_charge_dictionary:\n",
    "        location_charge_dictionary[patient_Stats.region[i]] = [patient_Stats.charges[i]]\n",
    "    else:\n",
    "        location_charge_dictionary[patient_Stats.region[i]].append(patient_Stats.charges[i])\n",
    "    i+=1\n",
    "location_average_charges = []\n",
    "i=0\n",
    "list_of_regions = list(location_charge_dictionary.keys())\n",
    "while i < len(location_charge_dictionary):\n",
    "    location_average_charges.append(np.mean(location_charge_dictionary[list_of_regions[i]]))\n",
    "    i+=1\n",
    "fig, ax = plt.subplots()\n",
    "ax.bar(location_charge_dictionary.keys(), location_average_charges, width=1)\n",
    "ax.set_xlabel('Region')\n",
    "ax.set_ylabel('Average Insurance Cost')\n",
    "ax.set_title('Average Insurnace Costs Based on Region')\n",
    "plt.show()"
   ]
  },
  {
   "cell_type": "markdown",
   "metadata": {},
   "source": [
    "The amount of individuals in each region is then shown below.  The amount of individuals in each region are very close."
   ]
  },
  {
   "cell_type": "code",
   "execution_count": 18,
   "metadata": {},
   "outputs": [
    {
     "name": "stdout",
     "output_type": "stream",
     "text": [
      "There are 325 individuals in the Southwest, 364 in the Southeast, 325 in the Northwest, and 324 in the Northeast.\n"
     ]
    }
   ],
   "source": [
    "print(\"There are {SW} individuals in the Southwest, {SE} in the Southeast, {NW} in the Northwest, and {NE} in the Northeast.\".format(SW = len(location_charge_dictionary['southwest']), SE = len(location_charge_dictionary['southeast']), NW = len(location_charge_dictionary['northwest']), NE = len(location_charge_dictionary['northeast'])))"
   ]
  },
  {
   "cell_type": "markdown",
   "metadata": {},
   "source": [
    "A bar graph comparing average insurance cost based off the sex of the individual is then made below.  Males in general have a higher insurance cost when compared to female counterparts.  This does not account for the possibility that men could be more likely to smoke."
   ]
  },
  {
   "cell_type": "code",
   "execution_count": 19,
   "metadata": {},
   "outputs": [
    {
     "data": {
      "image/png": "[encoded data removed]",
      "text/plain": [
       "<Figure size 432x288 with 1 Axes>"
      ]
     },
     "metadata": {
      "needs_background": "light"
     },
     "output_type": "display_data"
    }
   ],
   "source": [
    "sex_charge_dictionary = {}\n",
    "i = 0\n",
    "while i in range(len(patient_Stats.sex)):\n",
    "    if patient_Stats.sex[i] not in sex_charge_dictionary:\n",
    "        sex_charge_dictionary[patient_Stats.sex[i]] = [patient_Stats.charges[i]]\n",
    "    else:\n",
    "        sex_charge_dictionary[patient_Stats.sex[i]].append(patient_Stats.charges[i])\n",
    "    i+=1\n",
    "sex_average_charges = []\n",
    "sex_average_charges.append(np.mean(sex_charge_dictionary['female']))\n",
    "sex_average_charges.append(np.mean(sex_charge_dictionary['male']))\n",
    "fig, ax = plt.subplots()\n",
    "ax.bar(['Female', 'Male'], sex_average_charges, width=1)\n",
    "ax.set_xlabel('Sex')\n",
    "ax.set_ylabel('Average Insurance Cost')\n",
    "ax.set_title('Average Insurnace Costs Based on Sex')\n",
    "plt.show()"
   ]
  },
  {
   "cell_type": "markdown",
   "metadata": {},
   "source": [
    "Overall, the analyzing of this data didn't yield many surprises.  A few future directions this dataset could be taken is evaluating Male versus Female costs when accounting for factors like BMI and smoker status, analyzing the correlation between datapoints not in relation to insurance cost (BMI vs smoker status, sex vs smoker status, etc.), and running statistical analyses and obtaining numerical representation for correlations."
   ]
  }
 ],
 "metadata": {
  "interpreter": {
   "hash": "a7672e96ae4814148c9df53f13e13cee1f7b81f4499d63bd6bb607e17576b5f7"
  },
  "kernelspec": {
   "display_name": "Python 3.9.7 ('base')",
   "language": "python",
   "name": "python3"
  },
  "language_info": {
   "codemirror_mode": {
    "name": "ipython",
    "version": 3
   },
   "file_extension": ".py",
   "mimetype": "text/x-python",
   "name": "python",
   "nbconvert_exporter": "python",
   "pygments_lexer": "ipython3",
   "version": "3.9.7"
  },
  "orig_nbformat": 4
 },
 "nbformat": 4,
 "nbformat_minor": 2
}
