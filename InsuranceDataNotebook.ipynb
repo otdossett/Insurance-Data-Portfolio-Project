{
 "cells": [
  {
   "cell_type": "code",
   "execution_count": 62,
   "metadata": {},
   "outputs": [],
   "source": [
    "import pandas as pd\n",
    "import matplotlib.pyplot as plt\n",
    "import numpy as np"
   ]
  },
  {
   "cell_type": "code",
   "execution_count": 7,
   "metadata": {},
   "outputs": [],
   "source": [
    "df = pd.read_csv('insurance_data.csv')\n",
    "def csv_to_python_list(column):\n",
    "    return df[str(column)]"
   ]
  },
  {
   "cell_type": "code",
   "execution_count": 9,
   "metadata": {},
   "outputs": [],
   "source": [
    "list_of_columns = ['age', 'sex', 'bmi', 'children', 'smoker', 'region', 'charges']\n",
    "age = csv_to_python_list('age')\n",
    "sex = csv_to_python_list('sex')\n",
    "bmi = csv_to_python_list('bmi')\n",
    "children = csv_to_python_list('children')\n",
    "smoker = csv_to_python_list('smoker')\n",
    "region = csv_to_python_list('region')\n",
    "charges = csv_to_python_list('charges')"
   ]
  },
  {
   "cell_type": "code",
   "execution_count": 81,
   "metadata": {},
   "outputs": [
    {
     "ename": "IndentationError",
     "evalue": "expected an indented block (Temp/ipykernel_7640/2912337073.py, line 52)",
     "output_type": "error",
     "traceback": [
      "\u001b[1;36m  File \u001b[1;32m\"C:\\Users\\Owen\\AppData\\Local\\Temp/ipykernel_7640/2912337073.py\"\u001b[1;36m, line \u001b[1;32m52\u001b[0m\n\u001b[1;33m    for entry in self.dataset:\u001b[0m\n\u001b[1;37m                              ^\u001b[0m\n\u001b[1;31mIndentationError\u001b[0m\u001b[1;31m:\u001b[0m expected an indented block\n"
     ]
    }
   ],
   "source": [
    "class Patient_Data:\n",
    "    def __init__(self, age, sex, bmi, children, smoker, region, charges):\n",
    "        self.age = age\n",
    "        self.sex = sex\n",
    "        self.bmi = bmi\n",
    "        self.children = children\n",
    "        self.smoker = smoker\n",
    "        self.region = region\n",
    "        self.charges = charges\n",
    "    def analyze_Sex(self):\n",
    "        self.malecount = 0\n",
    "        self.femalecount = 0\n",
    "        for entry in self.sex:\n",
    "            if entry == 'male':\n",
    "                self.malecount += 1\n",
    "            else:\n",
    "                self.femalecount += 1\n",
    "        return self.malecount, self.femalecount\n",
    "    def average_bmi(self):\n",
    "        self.totalbmi = 0\n",
    "        for entry in self.bmi:\n",
    "            self.totalbmi += entry\n",
    "        return self.totalbmi//self.bmi.count()\n",
    "    def smoker_count(self):\n",
    "        self.smokercount = 0\n",
    "        self.nonsmokercount = 0\n",
    "        for entry in self.smoker:\n",
    "            if entry == 'yes':\n",
    "                self.smokercount += 1\n",
    "            else:\n",
    "                self.nonsmokercount += 1\n",
    "        return self.smokercount, self.nonsmokercount\n",
    "    def seperate_data_by_sex(self, category):\n",
    "        for entry in self.sex:\n",
    "            tempmalelist = []\n",
    "            tempfemalelist = []\n",
    "            if entry == 'male':\n",
    "                tempmalelist.append(self.category[self.sex.index(entry)])\n",
    "            else:\n",
    "                tempfemalelist.append(self.category[self.sex.index(entry)])\n",
    "        return tempmalelist, tempfemalelist\n",
    "    def generate_dictionary(self):\n",
    "        self.patient_dictionary = {}\n",
    "        self.patient_dictionary.update({'age':self.age, 'sex': self.sex, 'bmi': self.bmi, 'children': self.children, 'smoker': self.smoker, 'region': self.region, 'charges': self.charges})\n",
    "    def average_charge(self):\n",
    "        self.totalcharges = 0\n",
    "        for entry in self.charges:\n",
    "            self.totalcharges += entry\n",
    "        return self.totalcharges//self.charges.count()\n",
    "    def difference_in_cost(self, dataset):\n",
    "        tempdictionary = {}\n",
    "        for entry in self.dataset:\n",
    "            if entry not in tempdictionary:\n",
    "                tempdictionary[entry] = self.charges[self.data.set.index[entry]]\n",
    "            else:\n",
    "                tempdictionary[entry].append(self.charges[self.data.set.index[entry]])\n"
   ]
  },
  {
   "cell_type": "code",
   "execution_count": 60,
   "metadata": {},
   "outputs": [],
   "source": [
    "patient_Stats = Patient_Data(age, sex, bmi, children, smoker, region, charges)"
   ]
  },
  {
   "cell_type": "code",
   "execution_count": 46,
   "metadata": {},
   "outputs": [
    {
     "name": "stdout",
     "output_type": "stream",
     "text": [
      "There are 676 males and 662 females in this dataset.\n"
     ]
    }
   ],
   "source": [
    "mcount, fcount = patient_Stats.analyze_Sex()\n",
    "print(\"There are {mcount} males and {fcount} females in this dataset.\".format(mcount=mcount, fcount=fcount))"
   ]
  },
  {
   "cell_type": "code",
   "execution_count": 51,
   "metadata": {},
   "outputs": [
    {
     "name": "stdout",
     "output_type": "stream",
     "text": [
      "The average BMI of this dataset is 30.0.\n"
     ]
    }
   ],
   "source": [
    "avgbmi = patient_Stats.average_bmi()\n",
    "print(\"The average BMI of this dataset is {avgbmi}.\".format(avgbmi=avgbmi))"
   ]
  },
  {
   "cell_type": "code",
   "execution_count": 57,
   "metadata": {},
   "outputs": [
    {
     "name": "stdout",
     "output_type": "stream",
     "text": [
      "The amount of smokers in this dataset is 274.  The amount of non-smokers in this dataset is 1064.\n"
     ]
    }
   ],
   "source": [
    "smokercount, nonsmokercount = patient_Stats.smoker_count()\n",
    "print(\"The amount of smokers in this dataset is {scount}.  The amount of non-smokers in this dataset is {nonscount}.\".format(scount = smokercount, nonscount = nonsmokercount))"
   ]
  },
  {
   "cell_type": "code",
   "execution_count": 61,
   "metadata": {},
   "outputs": [
    {
     "name": "stdout",
     "output_type": "stream",
     "text": [
      "The average insurance cost of an individual in this dataset is 13270.0.\n"
     ]
    }
   ],
   "source": [
    "avgcost = patient_Stats.average_charge()\n",
    "print(\"The average insurance cost of an individual in this dataset is {avcost}.\".format(avcost = avgcost))"
   ]
  },
  {
   "cell_type": "code",
   "execution_count": null,
   "metadata": {},
   "outputs": [],
   "source": []
  }
 ],
 "metadata": {
  "interpreter": {
   "hash": "a7672e96ae4814148c9df53f13e13cee1f7b81f4499d63bd6bb607e17576b5f7"
  },
  "kernelspec": {
   "display_name": "Python 3.9.7 ('base')",
   "language": "python",
   "name": "python3"
  },
  "language_info": {
   "codemirror_mode": {
    "name": "ipython",
    "version": 3
   },
   "file_extension": ".py",
   "mimetype": "text/x-python",
   "name": "python",
   "nbconvert_exporter": "python",
   "pygments_lexer": "ipython3",
   "version": "3.9.7"
  },
  "orig_nbformat": 4
 },
 "nbformat": 4,
 "nbformat_minor": 2
}
